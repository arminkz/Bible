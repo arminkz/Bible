{
 "cells": [
  {
   "cell_type": "code",
   "execution_count": 55,
   "metadata": {},
   "outputs": [],
   "source": [
    "import numpy as np\n",
    "\n",
    "class dlnet:\n",
    "    def __init__(self, x, y,lr=0.03):\n",
    "        self.X=x\n",
    "        self.Y=y\n",
    "        self.Yh=np.zeros((1,1))\n",
    "        \n",
    "        self.n_layer=2 #number of layers\n",
    "        self.dims = [3, 4, 1] #size of each layer \n",
    "        self.param = {} #used to store weights\n",
    "        self.temp = {}  #used to store temp values\n",
    "        self.grad = {}\n",
    "        self.loss = []\n",
    "        self.lr=lr\n",
    "        self.sam = 1\n",
    "        \n",
    "    def nInit(self):    \n",
    "        np.random.seed(1)\n",
    "        self.param['W1'] = np.random.randn(self.dims[1], self.dims[0]) / np.sqrt(self.dims[0]) \n",
    "        self.param['b1'] = np.zeros((self.dims[1], 1))        \n",
    "        self.param['W2'] = np.random.randn(self.dims[2], self.dims[1]) / np.sqrt(self.dims[1]) \n",
    "        self.param['b2'] = np.zeros((self.dims[2], 1))                \n",
    "        return\n",
    "    \n",
    "    #Activation Functions\n",
    "    def Sigmoid(self,Z):\n",
    "        return 1/(1+np.exp(-Z))\n",
    "    \n",
    "    def Relu(self,Z):\n",
    "        return np.maximum(0,Z)\n",
    "    \n",
    "    def Tanh(self,Z):\n",
    "        return np.tanh(Z)\n",
    "    \n",
    "    #Feed Forward\n",
    "    def forward(self):    \n",
    "        Z1 = self.param['W1'].dot(self.X) + self.param['b1'] \n",
    "        A1 = self.Relu(Z1)\n",
    "        self.temp['Z1']=Z1\n",
    "        self.temp['A1']=A1\n",
    "        \n",
    "        Z2 = self.param['W2'].dot(A1) + self.param['b2']  \n",
    "        A2 = self.Sigmoid(Z2)\n",
    "        self.temp['Z2']=Z2\n",
    "        self.temp['A2']=A2\n",
    "        self.Yh=A2\n",
    "        loss=self.nloss(A2)\n",
    "        return self.Yh, loss\n",
    "    \n",
    "    #Cross Entropy Loss Function\n",
    "    def nloss(self,Yh):\n",
    "        loss = (1./self.sam) * (-np.dot(self.Y,np.log(Yh).T) - np.dot(1-self.Y, np.log(1-Yh).T))    \n",
    "        return loss\n",
    "    \n",
    "    #Sum of Squared Error Loss Function\n",
    "    def sseloss(self,Yh):\n",
    "        squared_errors = (self.Yh - self.Y) ** 2\n",
    "        loss = np.sum(squared_errors)\n",
    "        return loss\n",
    "    \n",
    "    #Derivative of Activation Functions\n",
    "    def dRelu(self,x):\n",
    "        x[x<=0] = 0\n",
    "        x[x>0] = 1\n",
    "        return x\n",
    "    \n",
    "    def dSigmoid(self,Z):\n",
    "        s = 1/(1+np.exp(-Z))\n",
    "        dZ = s * (1-s)\n",
    "        return dZ\n",
    "    \n",
    "    #Back propagation\n",
    "    def backward(self):\n",
    "        dLoss_Yh = - (np.divide(self.Y, self.Yh ) - np.divide(1 - self.Y, 1 - self.Yh))    \n",
    "        \n",
    "        dLoss_Z2 = dLoss_Yh * self.dSigmoid(self.temp['Z2'])    \n",
    "        dLoss_A1 = np.dot(self.param[\"W2\"].T,dLoss_Z2)\n",
    "        dLoss_W2 = 1./self.temp['A1'].shape[1] * np.dot(dLoss_Z2,self.temp['A1'].T)\n",
    "        dLoss_b2 = 1./self.temp['A1'].shape[1] * np.dot(dLoss_Z2, np.ones([dLoss_Z2.shape[1],1])) \n",
    "                            \n",
    "        dLoss_Z1 = dLoss_A1 * self.dRelu(self.temp['Z1'])        \n",
    "        dLoss_A0 = np.dot(self.param[\"W1\"].T,dLoss_Z1)\n",
    "        dLoss_W1 = 1./self.X.shape[1] * np.dot(dLoss_Z1,self.X.T)\n",
    "        dLoss_b1 = 1./self.X.shape[1] * np.dot(dLoss_Z1, np.ones([dLoss_Z1.shape[1],1]))  \n",
    "        \n",
    "        self.param[\"W1\"] = self.param[\"W1\"] - self.lr * dLoss_W1\n",
    "        self.param[\"b1\"] = self.param[\"b1\"] - self.lr * dLoss_b1\n",
    "        self.param[\"W2\"] = self.param[\"W2\"] - self.lr * dLoss_W2\n",
    "        self.param[\"b2\"] = self.param[\"b2\"] - self.lr * dLoss_b2\n",
    "    \n",
    "    #Gradient descent\n",
    "    def gd(self,X, Y, iter = 3000,verbose=True):\n",
    "        np.random.seed(1)                         \n",
    "    \n",
    "        self.nInit()\n",
    "    \n",
    "        for i in range(0, iter):\n",
    "            Yh, loss=self.forward()\n",
    "            self.backward()\n",
    "        \n",
    "            if i % 100 == 0:\n",
    "                if verbose: \n",
    "                    print (\"Loss value after iteration %i: %f\" %(i, loss))\n",
    "                self.loss.append(loss)\n",
    "    \n",
    "        return"
   ]
  },
  {
   "cell_type": "code",
   "execution_count": 56,
   "metadata": {},
   "outputs": [
    {
     "name": "stdout",
     "output_type": "stream",
     "text": [
      "Train : (3, 3) (3,)   Test : (1, 3) (1,)\n"
     ]
    }
   ],
   "source": [
    "X_train = np.array([[0,0,1],\n",
    "                    [0,1,1],\n",
    "                    [1,0,1]])\n",
    "y_train = np.array([0,1,1])\n",
    "\n",
    "X_test = np.array([[1,1,1]])\n",
    "y_test = np.array([0])\n",
    "\n",
    "print('Train :',X_train.shape,y_train.shape,'  Test :',X_test.shape,y_test.shape)"
   ]
  },
  {
   "cell_type": "code",
   "execution_count": 57,
   "metadata": {},
   "outputs": [
    {
     "name": "stdout",
     "output_type": "stream",
     "text": [
      "Loss value after iteration 0: 2.279259\n",
      "Loss value after iteration 100: 1.737041\n",
      "Loss value after iteration 200: 1.535979\n",
      "Loss value after iteration 300: 1.351606\n",
      "Loss value after iteration 400: 0.936860\n",
      "Loss value after iteration 500: 0.688975\n",
      "Loss value after iteration 600: 0.526668\n",
      "Loss value after iteration 700: 0.416669\n",
      "Loss value after iteration 800: 0.338924\n",
      "Loss value after iteration 900: 0.282875\n",
      "Loss value after iteration 1000: 0.240540\n",
      "Loss value after iteration 1100: 0.208436\n",
      "Loss value after iteration 1200: 0.182976\n",
      "Loss value after iteration 1300: 0.162651\n",
      "Loss value after iteration 1400: 0.146031\n",
      "Loss value after iteration 1500: 0.132287\n",
      "Loss value after iteration 1600: 0.120761\n",
      "Loss value after iteration 1700: 0.110975\n",
      "Loss value after iteration 1800: 0.102575\n",
      "Loss value after iteration 1900: 0.095239\n"
     ]
    }
   ],
   "source": [
    "nn = dlnet(X_train,y_train)\n",
    "nn.gd(X_train, y_train, iter = 2000)"
   ]
  },
  {
   "cell_type": "code",
   "execution_count": 58,
   "metadata": {},
   "outputs": [
    {
     "data": {
      "image/png": "[encoded data removed]",
      "text/plain": [
       "<matplotlib.figure.Figure at 0x114dede10>"
      ]
     },
     "metadata": {},
     "output_type": "display_data"
    }
   ],
   "source": [
    "import matplotlib.pyplot as plt\n",
    "plt.plot(nn.loss)\n",
    "plt.ylabel('Loss Value')\n",
    "plt.show()"
   ]
  },
  {
   "cell_type": "code",
   "execution_count": 67,
   "metadata": {},
   "outputs": [
    {
     "data": {
      "image/png": "[encoded data removed]",
      "text/plain": [
       "<matplotlib.figure.Figure at 0x114fe17b8>"
      ]
     },
     "metadata": {},
     "output_type": "display_data"
    }
   ],
   "source": [
    "lr = []\n",
    "loss = []\n",
    "\n",
    "for i in range(1,10):\n",
    "    lr.append(0.1*i)\n",
    "    nnl = dlnet(X_train,y_train,lr=0.1*i)\n",
    "    nnl.gd(X_train, y_train, iter = 1000,verbose=False)\n",
    "    loss.append(nnl.loss[-1][0])\n",
    "    \n",
    "plt.plot(lr,loss)\n",
    "plt.xlabel('Learning Rate')\n",
    "plt.ylabel('Final Loss Value')\n",
    "plt.show()"
   ]
  },
  {
   "cell_type": "code",
   "execution_count": null,
   "metadata": {},
   "outputs": [],
   "source": []
  }
 ],
 "metadata": {
  "kernelspec": {
   "display_name": "Python 3",
   "language": "python",
   "name": "python3"
  },
  "language_info": {
   "codemirror_mode": {
    "name": "ipython",
    "version": 3
   },
   "file_extension": ".py",
   "mimetype": "text/x-python",
   "name": "python",
   "nbconvert_exporter": "python",
   "pygments_lexer": "ipython3",
   "version": "3.6.8"
  }
 },
 "nbformat": 4,
 "nbformat_minor": 2
}
