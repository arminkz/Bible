{
 "cells": [
  {
   "cell_type": "code",
   "execution_count": 41,
   "metadata": {},
   "outputs": [
    {
     "name": "stdout",
     "output_type": "stream",
     "text": [
      "Original dataset shape Counter({1: 357, 0: 212})\n",
      "Resampled dataset shape Counter({0: 212, 1: 212})\n"
     ]
    }
   ],
   "source": [
    "from collections import Counter\n",
    "from sklearn.datasets import load_breast_cancer\n",
    "from imblearn.under_sampling import RandomUnderSampler\n",
    "\n",
    "X,y = load_breast_cancer(True)\n",
    "\n",
    "#Fix class imbalance with under sampling\n",
    "rus = RandomUnderSampler()\n",
    "Xb,yb = rus.fit_resample(X, y)\n",
    "\n",
    "print('Original dataset shape %s' % Counter(y))\n",
    "print('Resampled dataset shape %s' % Counter(yb))"
   ]
  },
  {
   "cell_type": "code",
   "execution_count": 42,
   "metadata": {},
   "outputs": [],
   "source": [
    "X,y = Xb,yb\n",
    "\n",
    "#scale data into [0,1] range\n",
    "from sklearn import preprocessing\n",
    "mms = preprocessing.MinMaxScaler()\n",
    "Xs = mms.fit_transform(X)"
   ]
  },
  {
   "cell_type": "code",
   "execution_count": 43,
   "metadata": {},
   "outputs": [
    {
     "name": "stdout",
     "output_type": "stream",
     "text": [
      "Test :  (85, 30) (85,)\n",
      "Train :  (339, 30) (339,)\n"
     ]
    }
   ],
   "source": [
    "X = Xs\n",
    "\n",
    "#split data into train / test\n",
    "from sklearn.model_selection import train_test_split\n",
    "X_train, X_test, y_train, y_test = train_test_split(X, y, test_size=0.2, random_state=0)\n",
    "\n",
    "\n",
    "print(\"Test : \",X_test.shape,y_test.shape)\n",
    "print(\"Train : \",X_train.shape,y_train.shape)"
   ]
  },
  {
   "cell_type": "code",
   "execution_count": 44,
   "metadata": {},
   "outputs": [],
   "source": [
    "import random\n",
    "import numpy as np\n",
    "from sklearn.metrics import accuracy_score\n",
    "\n",
    "class Perceptron:\n",
    "    \n",
    "    def __init__(self):\n",
    "        self.w = None\n",
    "        self.b = None\n",
    "        \n",
    "    def model(self, inp):\n",
    "        return 1 if (np.dot(self.w, inp) >= self.b) else 0\n",
    "        \n",
    "    def predict(self, X):\n",
    "        Y = []\n",
    "        for x in X:\n",
    "            result = self.model(x)\n",
    "            Y.append(result)\n",
    "        ynp = np.array(Y)\n",
    "        return ynp\n",
    "    \n",
    "    def fit(self, X, Y, epochs = 1, lr = 1):\n",
    "        self.w = np.ones(X.shape[1])\n",
    "        self.b = 0\n",
    "        max_accuracy = 0\n",
    "\n",
    "        \n",
    "        for i in range(epochs):\n",
    "            for x, y in zip(X, Y):\n",
    "                y_pred = self.model(x)\n",
    "                if y == 1 and y_pred == 0:\n",
    "                    self.w = self.w + lr * x\n",
    "                    self.b = self.b - lr * 1\n",
    "                elif y == 0 and y_pred == 1:\n",
    "                    self.w = self.w - lr * x\n",
    "                    self.b = self.b + lr * 1\n",
    "\n",
    "            acc = accuracy_score(self.predict(X), Y)\n",
    "            if (acc > max_accuracy): \n",
    "                max_accuracy = acc\n",
    "                chkptw = self.w\n",
    "                chkptb = self.b\n",
    "        #checkpoint (Save the weights and b value)\n",
    "        self.w = chkptw\n",
    "        self.b = chkptb\n",
    "\n",
    "        #return the weight matrix, that contains weights over all epochs\n",
    "        #return np.array(wt_matrix)"
   ]
  },
  {
   "cell_type": "code",
   "execution_count": 45,
   "metadata": {},
   "outputs": [
    {
     "name": "stdout",
     "output_type": "stream",
     "text": [
      "Accuracy :  0.9529411764705882\n"
     ]
    }
   ],
   "source": [
    "perceptron = Perceptron()\n",
    "\n",
    "#epochs = 1000 and lr = 0.3\n",
    "perceptron.fit(X_train, y_train, 1000, 0.3)\n",
    "\n",
    "#making predictions on test data\n",
    "y_pred_test = perceptron.predict(X_test)\n",
    "\n",
    "#checking the accuracy of the model\n",
    "print(\"Accuracy : \",accuracy_score(y_pred_test, y_test))"
   ]
  },
  {
   "cell_type": "code",
   "execution_count": 46,
   "metadata": {},
   "outputs": [
    {
     "name": "stdout",
     "output_type": "stream",
     "text": [
      "Test :  (212, 30) (212,)\n",
      "Train :  (212, 30) (212,)\n"
     ]
    }
   ],
   "source": [
    "X_train2, X_test2, y_train2, y_test2 = train_test_split(X, y, test_size=0.5, random_state=0)\n",
    "\n",
    "\n",
    "print(\"Test : \",X_test2.shape,y_test2.shape)\n",
    "print(\"Train : \",X_train2.shape,y_train2.shape)"
   ]
  },
  {
   "cell_type": "code",
   "execution_count": 47,
   "metadata": {},
   "outputs": [
    {
     "name": "stdout",
     "output_type": "stream",
     "text": [
      "Accuracy with altered Traning Size :  0.9481132075471698\n"
     ]
    }
   ],
   "source": [
    "perceptron2 = Perceptron()\n",
    "\n",
    "#epochs = 1000 and lr = 0.3\n",
    "perceptron2.fit(X_train2, y_train2, 1000, 0.3)\n",
    "\n",
    "#making predictions on test data\n",
    "y_pred_test2 = perceptron2.predict(X_test2)\n",
    "\n",
    "#checking the accuracy of the model\n",
    "print(\"Accuracy with altered Traning Size : \",accuracy_score(y_pred_test2, y_test2))"
   ]
  },
  {
   "cell_type": "code",
   "execution_count": 48,
   "metadata": {},
   "outputs": [
    {
     "name": "stdout",
     "output_type": "stream",
     "text": [
      "Accuracy with altered Epoch :  0.9529411764705882\n"
     ]
    }
   ],
   "source": [
    "perceptron3 = Perceptron()\n",
    "\n",
    "#epochs = 3000 and lr = 0.3\n",
    "perceptron3.fit(X_train, y_train, 3000, 0.3)\n",
    "\n",
    "#making predictions on test data\n",
    "y_pred_test3 = perceptron3.predict(X_test)\n",
    "\n",
    "#checking the accuracy of the model\n",
    "print(\"Accuracy with altered Epoch : \",accuracy_score(y_pred_test3, y_test))"
   ]
  },
  {
   "cell_type": "code",
   "execution_count": 50,
   "metadata": {},
   "outputs": [
    {
     "name": "stdout",
     "output_type": "stream",
     "text": [
      "Accuracy with altered Learning Rate :  0.9411764705882353\n"
     ]
    }
   ],
   "source": [
    "perceptron4 = Perceptron()\n",
    "\n",
    "#epochs = 1000 and lr = 0.3\n",
    "perceptron4.fit(X_train, y_train, 1000, 0.7)\n",
    "\n",
    "#making predictions on test data\n",
    "y_pred_test4 = perceptron4.predict(X_test)\n",
    "\n",
    "#checking the accuracy of the model\n",
    "print(\"Accuracy with altered Learning Rate : \",accuracy_score(y_pred_test4, y_test))"
   ]
  },
  {
   "cell_type": "code",
   "execution_count": null,
   "metadata": {},
   "outputs": [],
   "source": []
  }
 ],
 "metadata": {
  "kernelspec": {
   "display_name": "Python 3",
   "language": "python",
   "name": "python3"
  },
  "language_info": {
   "codemirror_mode": {
    "name": "ipython",
    "version": 3
   },
   "file_extension": ".py",
   "mimetype": "text/x-python",
   "name": "python",
   "nbconvert_exporter": "python",
   "pygments_lexer": "ipython3",
   "version": "3.6.8"
  }
 },
 "nbformat": 4,
 "nbformat_minor": 2
}
